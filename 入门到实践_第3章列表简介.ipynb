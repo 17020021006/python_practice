{
 "cells": [
  {
   "cell_type": "code",
   "execution_count": 4,
   "metadata": {},
   "outputs": [
    {
     "name": "stdout",
     "output_type": "stream",
     "text": [
      "my first bicycle was a Trek.\n"
     ]
    }
   ],
   "source": [
    "bicycles=['trek','cannondale','redline']\n",
    "message=f\"my first bicycle was a {bicycles[0].title()}.\"\n",
    "print(message)"
   ]
  },
  {
   "cell_type": "code",
   "execution_count": 7,
   "metadata": {},
   "outputs": [
    {
     "name": "stdout",
     "output_type": "stream",
     "text": [
      "pengqiulei\n",
      "dingzicong\n",
      "dingjinren\n"
     ]
    }
   ],
   "source": [
    "#动手试一试\n",
    "#3-1 姓名\n",
    "friends_names=['pengqiulei','dingzicong','dingjinren']\n",
    "for i in friends_names:\n",
    "    print(i)"
   ]
  },
  {
   "cell_type": "code",
   "execution_count": 9,
   "metadata": {},
   "outputs": [
    {
     "name": "stdout",
     "output_type": "stream",
     "text": [
      "hello my friend Pengqiulei\n",
      "hello my friend Dingzicong\n",
      "hello my friend Dingjinren\n"
     ]
    }
   ],
   "source": [
    "#3-2 问候语\n",
    "for i in friends_names:\n",
    "    message=f\"hello my friend {i.title()}\"\n",
    "    print(message)\n"
   ]
  },
  {
   "cell_type": "code",
   "execution_count": 22,
   "metadata": {},
   "outputs": [
    {
     "name": "stdout",
     "output_type": "stream",
     "text": [
      "I would like to go to school by motocycle\n",
      "I would like to go to school by car\n",
      "I would like to go to school by bus\n"
     ]
    }
   ],
   "source": [
    "#3-3 自己的列表\n",
    "vehicle=['motocycle','car','bus']\n",
    "for i in vehicle:\n",
    "    print (f'I would like to go to school by {i}')"
   ]
  },
  {
   "cell_type": "code",
   "execution_count": 23,
   "metadata": {},
   "outputs": [
    {
     "name": "stdout",
     "output_type": "stream",
     "text": [
      "['motocycle', 'car', 'bus', 'air plane']\n"
     ]
    }
   ],
   "source": [
    "#3.2.2 列表中添加元素\n",
    "vehicle.append('air plane')\n",
    "print(vehicle)"
   ]
  },
  {
   "cell_type": "code",
   "execution_count": 24,
   "metadata": {},
   "outputs": [
    {
     "name": "stdout",
     "output_type": "stream",
     "text": [
      "['ship', 'motocycle', 'car', 'bus', 'air plane']\n"
     ]
    }
   ],
   "source": [
    "vehicle.insert(0,'ship')\n",
    "print(vehicle)"
   ]
  },
  {
   "cell_type": "code",
   "execution_count": 33,
   "metadata": {},
   "outputs": [
    {
     "name": "stdout",
     "output_type": "stream",
     "text": [
      "['motocycle', 'bus', 'airplane']\n",
      "\n",
      "['motocycle', 'bus']\n",
      "airplane\n",
      "the last vehicle I owned is Airplane\n",
      "\n",
      "['bus']\n",
      "the first vehicle I owned is motocycle\n"
     ]
    }
   ],
   "source": [
    "#3.2.3 列表中删除元素   del  pop()  remove()    pop()和del 都能删除特定位置，区别在于 pop() 有返回值\n",
    "vehicle=['motocycle','car','bus','airplane']\n",
    "del vehicle[1]\n",
    "print(vehicle)\n",
    "print()\n",
    "\n",
    "popped_vehicle=vehicle.pop()\n",
    "print(vehicle)\n",
    "print(popped_vehicle)\n",
    "print(f\"the last vehicle I owned is {popped_vehicle.title()}\")\n",
    "print()\n",
    "\n",
    "first_vehicle=vehicle.pop(0)\n",
    "print(vehicle)\n",
    "print(f\"the first vehicle I owned is {first_vehicle}\")"
   ]
  },
  {
   "cell_type": "code",
   "execution_count": 35,
   "metadata": {},
   "outputs": [
    {
     "name": "stdout",
     "output_type": "stream",
     "text": [
      "['motocycle', 'bus', 'airplane']\n"
     ]
    }
   ],
   "source": [
    "vehicle=['motocycle','car','bus','airplane']\n",
    "vehicle.remove('car')    #删除特定值\n",
    "print(vehicle)"
   ]
  },
  {
   "cell_type": "code",
   "execution_count": 38,
   "metadata": {},
   "outputs": [
    {
     "name": "stdout",
     "output_type": "stream",
     "text": [
      "I invite pengqiulei to my party\n",
      "I invite dingzicong to my party\n",
      "I invite dingjinren to my party\n"
     ]
    }
   ],
   "source": [
    "#动手试一试\n",
    "#3-4 嘉宾名单\n",
    "guests=['pengqiulei','dingzicong','dingjinren']\n",
    "for i in guests:\n",
    "    print(f\"I invite {i} to my party\")"
   ]
  },
  {
   "cell_type": "code",
   "execution_count": 40,
   "metadata": {},
   "outputs": [
    {
     "name": "stdout",
     "output_type": "stream",
     "text": [
      "the guest called pengqiulei can not come.\n",
      "I invite dengzhonghui to my party\n",
      "I invite dingzicong to my party\n",
      "I invite dingjinren to my party\n"
     ]
    }
   ],
   "source": [
    "#3-5 修改嘉宾名单\n",
    "print(f\"the guest called {guests[0]} can not come.\")\n",
    "guests[0]='dengzhonghui'\n",
    "for i in guests:\n",
    "    print(f\"I invite {i} to my party\")"
   ]
  },
  {
   "cell_type": "code",
   "execution_count": 42,
   "metadata": {},
   "outputs": [
    {
     "name": "stdout",
     "output_type": "stream",
     "text": [
      "I found a bigger tab,we can add guests!\n",
      "['pengqiulei', 'dengzhonghui', 'liwei', 'dingzicong', 'dingjinren', 'zhouchenzhen']\n",
      "I invite pengqiulei to my party\n",
      "I invite dengzhonghui to my party\n",
      "I invite liwei to my party\n",
      "I invite dingzicong to my party\n",
      "I invite dingjinren to my party\n",
      "I invite zhouchenzhen to my party\n"
     ]
    }
   ],
   "source": [
    "#3-6 添加嘉宾\n",
    "print(\"I found a bigger tab,we can add guests!\")\n",
    "guests.insert(0,'pengqiulei')\n",
    "guests.insert(2,'linwei')\n",
    "guests.append('zhouchenzhen')\n",
    "print(guests)\n",
    "for i in guests:\n",
    "    print(f\"I invite {i} to my party\")"
   ]
  },
  {
   "cell_type": "code",
   "execution_count": 47,
   "metadata": {},
   "outputs": [
    {
     "name": "stdout",
     "output_type": "stream",
     "text": [
      "I can only invite two people to my praty.\n",
      "I am so sorry that you can not come to the party,zhouchenzhen\n",
      "I am so sorry that you can not come to the party,dingjinren\n",
      "I am so sorry that you can not come to the party,dingzicong\n",
      "I am so sorry that you can not come to the party,linwei\n",
      "['pengqiulei', 'dengzhonghui']\n",
      "[]\n"
     ]
    }
   ],
   "source": [
    "#3-7 缩减名单\n",
    "guests=['pengqiulei', 'dengzhonghui', 'linwei', 'dingzicong', 'dingjinren', 'zhouchenzhen']\n",
    "print(\"I can only invite two people to my praty.\")\n",
    "print(f\"I am so sorry that you can not come to the party,{guests.pop()}\")\n",
    "print(f\"I am so sorry that you can not come to the party,{guests.pop()}\")\n",
    "print(f\"I am so sorry that you can not come to the party,{guests.pop()}\")\n",
    "print(f\"I am so sorry that you can not come to the party,{guests.pop()}\")\n",
    "print(guests)\n",
    "del guests[0]\n",
    "del guests[0]\n",
    "print(guests)"
   ]
  },
  {
   "cell_type": "code",
   "execution_count": 48,
   "metadata": {},
   "outputs": [
    {
     "name": "stdout",
     "output_type": "stream",
     "text": [
      "['dengzhonghui', 'dingjinren', 'dingzicong', 'linwei', 'pengqiulei', 'zhouchenzhen']\n"
     ]
    }
   ],
   "source": [
    "# 3.3 组织列表\n",
    "guests=['pengqiulei', 'dengzhonghui', 'linwei', 'dingzicong', 'dingjinren', 'zhouchenzhen']\n",
    "guests.sort()\n",
    "print(guests)"
   ]
  },
  {
   "cell_type": "code",
   "execution_count": 50,
   "metadata": {},
   "outputs": [
    {
     "name": "stdout",
     "output_type": "stream",
     "text": [
      "['zhouchenzhen', 'pengqiulei', 'linwei', 'dingzicong', 'dingjinren', 'dengzhonghui']\n"
     ]
    }
   ],
   "source": [
    "guests.sort(reverse=True)    # reverse参数，按照字母顺序相反的顺序排列\n",
    "print(guests)"
   ]
  },
  {
   "cell_type": "code",
   "execution_count": 60,
   "metadata": {},
   "outputs": [
    {
     "name": "stdout",
     "output_type": "stream",
     "text": [
      "['dengzhonghui', 'dingjinren', 'dingzicong', 'linwei', 'pengqiulei', 'zhouchenzhen']\n",
      "['zhouchenzhen', 'pengqiulei', 'linwei', 'dingzicong', 'dingjinren', 'dengzhonghui']\n",
      "['pengqiulei', 'dengzhonghui', 'linwei', 'dingzicong', 'dingjinren', 'zhouchenzhen']\n"
     ]
    }
   ],
   "source": [
    "guests=['pengqiulei', 'dengzhonghui', 'linwei', 'dingzicong', 'dingjinren', 'zhouchenzhen']\n",
    "print(sorted(guests))     #sorted 函数 是浅拷贝\n",
    "print(sorted(guests,reverse=True))\n",
    "print(guests)"
   ]
  },
  {
   "cell_type": "code",
   "execution_count": 54,
   "metadata": {},
   "outputs": [
    {
     "name": "stdout",
     "output_type": "stream",
     "text": [
      "['zhouchenzhen', 'dingjinren', 'dingzicong', 'linwei', 'dengzhonghui', 'pengqiulei']\n"
     ]
    }
   ],
   "source": [
    "guests=['pengqiulei', 'dengzhonghui', 'linwei', 'dingzicong', 'dingjinren', 'zhouchenzhen']\n",
    "guests.reverse()   #倒着排序\n",
    "print(guests)"
   ]
  },
  {
   "cell_type": "code",
   "execution_count": 56,
   "metadata": {},
   "outputs": [
    {
     "name": "stdout",
     "output_type": "stream",
     "text": [
      "6\n"
     ]
    }
   ],
   "source": [
    "guests=['pengqiulei', 'dengzhonghui', 'linwei', 'dingzicong', 'dingjinren', 'zhouchenzhen']\n",
    "print(len(guests))    #列表长度"
   ]
  },
  {
   "cell_type": "code",
   "execution_count": 61,
   "metadata": {},
   "outputs": [
    {
     "name": "stdout",
     "output_type": "stream",
     "text": [
      "['beijing', 'anhui', 'changsha', 'xiamen', 'qingdao']\n",
      "['anhui', 'beijing', 'changsha', 'qingdao', 'xiamen']\n",
      "['beijing', 'anhui', 'changsha', 'xiamen', 'qingdao']\n",
      "['xiamen', 'qingdao', 'changsha', 'beijing', 'anhui']\n",
      "['beijing', 'anhui', 'changsha', 'xiamen', 'qingdao']\n",
      "['qingdao', 'xiamen', 'changsha', 'anhui', 'beijing']\n",
      "['beijing', 'anhui', 'changsha', 'xiamen', 'qingdao']\n",
      "['anhui', 'beijing', 'changsha', 'qingdao', 'xiamen']\n",
      "['xiamen', 'qingdao', 'changsha', 'beijing', 'anhui']\n"
     ]
    }
   ],
   "source": [
    "#动手试一试\n",
    "#3-8\n",
    "travels=['beijing','anhui','changsha','xiamen','qingdao']\n",
    "print(travels)\n",
    "print(sorted(travels))\n",
    "print(travels)\n",
    "print(sorted(travels,reverse=True))\n",
    "print(travels)\n",
    "travels.reverse()\n",
    "print(travels)\n",
    "travels.reverse()\n",
    "print(travels)\n",
    "travels.sort()\n",
    "print(travels)\n",
    "travels.sort(reverse=True)\n",
    "print(travels)"
   ]
  },
  {
   "cell_type": "code",
   "execution_count": 62,
   "metadata": {},
   "outputs": [
    {
     "name": "stdout",
     "output_type": "stream",
     "text": [
      "5\n"
     ]
    }
   ],
   "source": [
    "#3-9\n",
    "print(len(travels))"
   ]
  },
  {
   "cell_type": "code",
   "execution_count": 65,
   "metadata": {},
   "outputs": [
    {
     "name": "stdout",
     "output_type": "stream",
     "text": [
      "['Russia', 'China', 'America', 'Canada', 'japan', 'korea']\n",
      "['China', 'America', 'Canada', 'japan']\n",
      "['China', 'America', 'Canada']\n",
      "['America', 'Canada', 'China']\n",
      "3\n"
     ]
    }
   ],
   "source": [
    "#3-10\n",
    "countrys=['China','America','Canada','japan']\n",
    "countrys.append('korea')\n",
    "countrys.insert(0,'Russia')\n",
    "print(countrys)\n",
    "del countrys[0]\n",
    "countrys.pop()\n",
    "print(countrys)\n",
    "countrys.remove('japan')\n",
    "print(countrys)\n",
    "countrys.sort()\n",
    "print(countrys)\n",
    "countrys.reverse()\n",
    "print(len(countrys))"
   ]
  },
  {
   "cell_type": "code",
   "execution_count": 67,
   "metadata": {},
   "outputs": [
    {
     "name": "stdout",
     "output_type": "stream",
     "text": [
      "japan\n"
     ]
    }
   ],
   "source": [
    "#动手试一试\n",
    "#3-11\n",
    "countrys=['China','America','Canada','japan']\n",
    "print(countrys[3])  #index 为4 则出错"
   ]
  },
  {
   "cell_type": "code",
   "execution_count": null,
   "metadata": {},
   "outputs": [],
   "source": []
  }
 ],
 "metadata": {
  "kernelspec": {
   "display_name": "Python 3",
   "language": "python",
   "name": "python3"
  },
  "language_info": {
   "codemirror_mode": {
    "name": "ipython",
    "version": 3
   },
   "file_extension": ".py",
   "mimetype": "text/x-python",
   "name": "python",
   "nbconvert_exporter": "python",
   "pygments_lexer": "ipython3",
   "version": "3.7.6"
  }
 },
 "nbformat": 4,
 "nbformat_minor": 4
}
