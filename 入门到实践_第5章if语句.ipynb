{
 "cells": [
  {
   "cell_type": "code",
   "execution_count": 1,
   "metadata": {},
   "outputs": [
    {
     "data": {
      "text/plain": [
       "True"
      ]
     },
     "execution_count": 1,
     "metadata": {},
     "output_type": "execute_result"
    }
   ],
   "source": [
    "#如果大小写无关紧要，只想要检查变量的值，可以将变量的值转换为小写，在进行比较\n",
    "car='Audi'\n",
    "car.lower()=='audi'"
   ]
  },
  {
   "cell_type": "code",
   "execution_count": 3,
   "metadata": {},
   "outputs": [
    {
     "data": {
      "text/plain": [
       "'Audi'"
      ]
     },
     "execution_count": 3,
     "metadata": {},
     "output_type": "execute_result"
    }
   ],
   "source": [
    "car  # lower()不修改原来的值"
   ]
  },
  {
   "cell_type": "code",
   "execution_count": 4,
   "metadata": {},
   "outputs": [
    {
     "data": {
      "text/plain": [
       "False"
      ]
     },
     "execution_count": 4,
     "metadata": {},
     "output_type": "execute_result"
    }
   ],
   "source": [
    "#检查多个条件  关键词 and 和 or\n",
    "age_0=22\n",
    "age_1=18\n",
    "age_0>=21 and age_1>=21"
   ]
  },
  {
   "cell_type": "code",
   "execution_count": 5,
   "metadata": {},
   "outputs": [
    {
     "data": {
      "text/plain": [
       "True"
      ]
     },
     "execution_count": 5,
     "metadata": {},
     "output_type": "execute_result"
    }
   ],
   "source": [
    "age_0>=21 or age_1>=21"
   ]
  },
  {
   "cell_type": "code",
   "execution_count": 7,
   "metadata": {},
   "outputs": [
    {
     "data": {
      "text/plain": [
       "True"
      ]
     },
     "execution_count": 7,
     "metadata": {},
     "output_type": "execute_result"
    }
   ],
   "source": [
    "# 关键词 in 判断特定的值是否已包含在列表中\n",
    "pets=['dog','cat','snake']\n",
    "'dog' in pets"
   ]
  },
  {
   "cell_type": "code",
   "execution_count": 8,
   "metadata": {},
   "outputs": [
    {
     "data": {
      "text/plain": [
       "True"
      ]
     },
     "execution_count": 8,
     "metadata": {},
     "output_type": "execute_result"
    }
   ],
   "source": [
    "#关键词 not in 判断特定的值不包含在列表中\n",
    "'bird' not in pets"
   ]
  },
  {
   "cell_type": "code",
   "execution_count": 9,
   "metadata": {},
   "outputs": [
    {
     "name": "stdout",
     "output_type": "stream",
     "text": [
      "Is car=='subaru'? I predict True.\n",
      "True\n"
     ]
    }
   ],
   "source": [
    "#动手试一试\n",
    "#练习5-1 条件测试\n",
    "car='subaru'\n",
    "print(\"Is car=='subaru'? I predict True.\")\n",
    "print(car=='subaru')"
   ]
  },
  {
   "cell_type": "code",
   "execution_count": 10,
   "metadata": {},
   "outputs": [
    {
     "name": "stdout",
     "output_type": "stream",
     "text": [
      "False\n",
      "True\n",
      "True\n",
      "False\n",
      "False\n",
      "True\n",
      "True\n",
      "False\n"
     ]
    }
   ],
   "source": [
    "#练习5-2:更多条件测试\n",
    "print('car'=='cars')\n",
    "print('car'=='Car'.lower())\n",
    "print(29>=21)\n",
    "print(25<=21)\n",
    "print(29>=20 and 10>=20)\n",
    "print(29>=20 or 10>=20)\n",
    "pets=['dog','cat','snake']\n",
    "print('dog' in pets)\n",
    "print('dog' not in pets)"
   ]
  },
  {
   "cell_type": "code",
   "execution_count": 11,
   "metadata": {},
   "outputs": [
    {
     "name": "stdout",
     "output_type": "stream",
     "text": [
      "you got 5 scores\n"
     ]
    }
   ],
   "source": [
    "#动手试一试\n",
    "#5-3 外星人颜色\n",
    "alian_color='green'\n",
    "if alian_color=='green':\n",
    "    print('you got 5 scores')\n",
    "    print\n",
    "alian_color='red'\n",
    "if alian_color=='green':\n",
    "    print('you got 5 scores')"
   ]
  },
  {
   "cell_type": "code",
   "execution_count": 13,
   "metadata": {},
   "outputs": [
    {
     "name": "stdout",
     "output_type": "stream",
     "text": [
      "you got 5 scores\n",
      "\n",
      "you got 10 scores\n"
     ]
    }
   ],
   "source": [
    "#练习5-4 外星人颜色2\n",
    "alian_color='green'\n",
    "if alian_color=='green':\n",
    "    print('you got 5 scores')\n",
    "else:\n",
    "    print('you got 10 scores')\n",
    "print()\n",
    "alian_color='red'\n",
    "if alian_color=='green':\n",
    "    print('you got 5 scores')\n",
    "else:\n",
    "    print('you got 10 scores')"
   ]
  },
  {
   "cell_type": "code",
   "execution_count": 14,
   "metadata": {},
   "outputs": [
    {
     "name": "stdout",
     "output_type": "stream",
     "text": [
      "you got 5 scores\n",
      "you got 10 scores\n",
      "you got 15 scores\n",
      "\n"
     ]
    }
   ],
   "source": [
    "#练习5-5 外星人颜色3 \n",
    "alian_color='green'\n",
    "if alian_color=='green':\n",
    "    print('you got 5 scores')\n",
    "elif alian_color=='yellow':\n",
    "    print('you got 10 scores')\n",
    "else:\n",
    "    print('you got 15 scores')\n",
    "    print()\n",
    "    \n",
    "alian_color='yellow'\n",
    "if alian_color=='green':\n",
    "    print('you got 5 scores')\n",
    "elif alian_color=='yellow':\n",
    "    print('you got 10 scores')\n",
    "else:\n",
    "    print('you got 15 scores')\n",
    "    print()\n",
    "alian_color='red'\n",
    "\n",
    "if alian_color=='green':\n",
    "    print('you got 5 scores')\n",
    "elif alian_color=='yellow':\n",
    "    print('you got 10 scores')\n",
    "else:\n",
    "    print('you got 15 scores')\n",
    "    print()"
   ]
  },
  {
   "cell_type": "code",
   "execution_count": 15,
   "metadata": {},
   "outputs": [
    {
     "name": "stdout",
     "output_type": "stream",
     "text": [
      "he is adult\n"
     ]
    }
   ],
   "source": [
    "#练习5-6:人生的不同阶段\n",
    "age=32\n",
    "if age<2:\n",
    "    print(\"he is baby\")\n",
    "elif age<4:\n",
    "    print('he is youer')\n",
    "elif age<13:\n",
    "    print(\"he is child\")\n",
    "elif age<20:\n",
    "    print('he is teenager')\n",
    "elif age<65:\n",
    "    print('he is adult')\n",
    "else:\n",
    "    print('hs is the old')"
   ]
  },
  {
   "cell_type": "code",
   "execution_count": 18,
   "metadata": {},
   "outputs": [
    {
     "name": "stdout",
     "output_type": "stream",
     "text": [
      "you really like apple\n",
      "you really like banana\n",
      "you really like pear\n"
     ]
    }
   ],
   "source": [
    "#练习5-7:喜欢的水果\n",
    "furits=['apple','banana','pear']\n",
    "if 'apple' in furits:\n",
    "    print(f\"you really like apple\")\n",
    "if 'banana' in furits:\n",
    "    print(f\"you really like banana\")\n",
    "if 'pear' in furits:\n",
    "    print(f\"you really like pear\")\n",
    "if 'purple' in furits:\n",
    "    print(f\"you really like apple\")\n",
    "if 'orange' in furits:\n",
    "    print(f\"you really like apple\")"
   ]
  },
  {
   "cell_type": "code",
   "execution_count": 20,
   "metadata": {},
   "outputs": [
    {
     "name": "stdout",
     "output_type": "stream",
     "text": [
      "Adding mushrooms.\n",
      "sorry,we don't havefrench fries\n",
      "Adding extra cheese.\n",
      "\n",
      "finished making your pizza\n"
     ]
    }
   ],
   "source": [
    "available_toppings=['mushrooms','olives','green peppers','pepperoni','pineapple','extra cheese']\n",
    "requested_toppings=['mushrooms','french fries','extra cheese']\n",
    "\n",
    "for requested_topping in requested_toppings:\n",
    "    if requested_topping in available_toppings:\n",
    "        print(f\"Adding {requested_topping}.\")\n",
    "    else:\n",
    "        print(f\"sorry,we don't have{requested_topping}\")\n",
    "        \n",
    "print(\"\\nfinished making your pizza\")"
   ]
  },
  {
   "cell_type": "code",
   "execution_count": 22,
   "metadata": {},
   "outputs": [
    {
     "name": "stdout",
     "output_type": "stream",
     "text": [
      "hello,admin.would you like to see a status report?\n",
      "hello xiaoli,thank you for logging\n",
      "hello xiaohua,thank you for logging\n"
     ]
    }
   ],
   "source": [
    "#动手试一试\n",
    "#练习5-8：以特殊方式跟管理员打招呼\n",
    "members=['admin','xiaoli','xiaohua']\n",
    "for member in members:\n",
    "    if member=='admin':\n",
    "        print('hello,admin.would you like to see a status report?')\n",
    "    else:\n",
    "        print(f'hello {member},thank you for logging')"
   ]
  },
  {
   "cell_type": "code",
   "execution_count": 27,
   "metadata": {},
   "outputs": [
    {
     "name": "stdout",
     "output_type": "stream",
     "text": [
      "we need find some users\n"
     ]
    }
   ],
   "source": [
    "#练习5-9：处理没有用户的情形\n",
    "members=[]\n",
    "if members==[]:\n",
    "        print(\"we need find some users\")\n",
    "for member in members:\n",
    "    if member=='admin':\n",
    "        print('hello,admin.would you like to see a status report?')\n",
    "    else:\n",
    "        print(f'hello {member},thank you for logging')"
   ]
  },
  {
   "cell_type": "code",
   "execution_count": 30,
   "metadata": {},
   "outputs": [
    {
     "name": "stdout",
     "output_type": "stream",
     "text": [
      "xiaoLi has been used,you need change\n",
      "xiaohua has been used,you need change\n",
      "zz is good for using\n",
      "ak is good for using\n",
      "bb is good for using\n"
     ]
    }
   ],
   "source": [
    "#练习5-10：检查用户名\n",
    "current_users=['xiaoli','xiaoHua','xiaozhang','qiqi','lili']\n",
    "current_users_temp=[]\n",
    "for user in current_users:\n",
    "    current_users_temp.append(user.lower())\n",
    "new_users=['xiaoLi','xiaohua','zz','ak','bb']\n",
    "for user in new_users:\n",
    "    if user.lower() in current_users_temp:\n",
    "        print(f\"{user} has been used,you need change\")\n",
    "    else:\n",
    "        print(f\"{user} is good for using\")"
   ]
  },
  {
   "cell_type": "code",
   "execution_count": 31,
   "metadata": {},
   "outputs": [
    {
     "name": "stdout",
     "output_type": "stream",
     "text": [
      "1st\n",
      "2nd\n",
      "3rd\n",
      "4th\n",
      "5th\n",
      "6th\n",
      "7th\n",
      "8th\n",
      "9th\n"
     ]
    }
   ],
   "source": [
    "#练习5-11：序数\n",
    "numbers=[1,2,3,4,5,6,7,8,9]\n",
    "for i in numbers:\n",
    "    if i==1:\n",
    "        print(\"1st\")\n",
    "    elif i==2:\n",
    "        print(\"2nd\")\n",
    "    elif i==3:\n",
    "        print('3rd')\n",
    "    else:\n",
    "        print(f\"{i}th\")"
   ]
  },
  {
   "cell_type": "code",
   "execution_count": 35,
   "metadata": {},
   "outputs": [
    {
     "name": "stdout",
     "output_type": "stream",
     "text": [
      "3<4\n"
     ]
    }
   ],
   "source": [
    "#代码格式在关系符左右各加一个空格\n",
    "age=3\n",
    "if age < 4:\n",
    "    print(\"3<4\")"
   ]
  }
 ],
 "metadata": {
  "kernelspec": {
   "display_name": "Python 3",
   "language": "python",
   "name": "python3"
  },
  "language_info": {
   "codemirror_mode": {
    "name": "ipython",
    "version": 3
   },
   "file_extension": ".py",
   "mimetype": "text/x-python",
   "name": "python",
   "nbconvert_exporter": "python",
   "pygments_lexer": "ipython3",
   "version": "3.7.6"
  }
 },
 "nbformat": 4,
 "nbformat_minor": 4
}
